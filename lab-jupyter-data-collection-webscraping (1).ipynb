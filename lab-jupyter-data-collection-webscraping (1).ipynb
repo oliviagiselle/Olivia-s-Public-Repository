{
 "cells": [
  {
   "cell_type": "markdown",
   "metadata": {},
   "source": [
    "<center>\n",
    "<img src=\"https://cf-courses-data.s3.us.cloud-object-storage.appdomain.cloud/IBMDeveloperSkillsNetwork-RP0321EN-SkillsNetwork/labs/module_1/images/SN_web_lightmode.png\" width=\"300\"> \n",
    "</center>\n"
   ]
  },
  {
   "cell_type": "markdown",
   "metadata": {},
   "source": [
    "<h1>Web scrape a Global Bike-Sharing Systems Wiki Page</h1>\n",
    "\n",
    "Estimated time needed: **20** minutes\n"
   ]
  },
  {
   "cell_type": "markdown",
   "metadata": {},
   "source": [
    "## Lab Overview:\n",
    "\n",
    "Before getting your hands dirty on the actual data analysis tasks, you first need to obtain some background and context information about well-known bike sharing systems worldwide, such as their location, launch date, rental bike size, and so on.\n",
    "\n",
    "You can get such information from this Wiki page: \n",
    "\n",
    "https://en.wikipedia.org/wiki/List_of_bicycle-sharing_systems\n",
    "\n",
    "<a href=\"https://cognitiveclass.ai/\">\n",
    "    <img src=\"https://cf-courses-data.s3.us.cloud-object-storage.appdomain.cloud/IBMDeveloperSkillsNetwork-RP0321EN-SkillsNetwork/labs/module_1/images/l2-list-bike-sharing-systems.png\" width=\"600\" align=\"center\">\n",
    "</a>\n"
   ]
  },
  {
   "cell_type": "markdown",
   "metadata": {},
   "source": [
    "First import necessary libraries for the webscraping task.\n"
   ]
  },
  {
   "cell_type": "markdown",
   "metadata": {},
   "source": [
    "\n",
    "In this lab, you need to use the `rvest` library to obtain the bike sharing systems table from the above web page, convert the table into a data frame, and write the data frame to a csv file for future data wrangling and analysis tasks.\n"
   ]
  },
  {
   "cell_type": "code",
   "execution_count": 1,
   "metadata": {},
   "outputs": [
    {
     "name": "stderr",
     "output_type": "stream",
     "text": [
      "Loading required package: rvest\n",
      "\n"
     ]
    }
   ],
   "source": [
    "# Check if need to install rvest` library\n",
    "require(\"rvest\")\n",
    "\n",
    "library(rvest)"
   ]
  },
  {
   "cell_type": "markdown",
   "metadata": {},
   "source": [
    "# TASK: Extract bike sharing systems HTML table from a Wiki page and convert it into a data frame\n"
   ]
  },
  {
   "cell_type": "markdown",
   "metadata": {},
   "source": [
    "_TODO:_ Get the root HTML node\n"
   ]
  },
  {
   "cell_type": "code",
   "execution_count": 9,
   "metadata": {},
   "outputs": [],
   "source": [
    "url <- \"https://en.wikipedia.org/wiki/List_of_bicycle-sharing_systems\"\n",
    "root_node <- read_html(url)"
   ]
  },
  {
   "cell_type": "markdown",
   "metadata": {},
   "source": [
    "Note that this HTML page at least contains three child `<table>` nodes under the root HTML node. So, you will need to use `html_nodes(root_node, \"table\")` function to get all its child `<table>` nodes:\n",
    "\n",
    "```\n",
    "<html>\n",
    "  <table>(table1)</table>\n",
    "  <table>(table2)</table>\n",
    "  <table>(table3)</table>\n",
    "  ...\n",
    "</html>\n",
    "```\n"
   ]
  },
  {
   "cell_type": "markdown",
   "metadata": {},
   "source": [
    "table_nodes <- html_nodes(root_node, \"table\")\n"
   ]
  },
  {
   "cell_type": "markdown",
   "metadata": {},
   "source": [
    "You can use a `for` loop to print each table, and then you will see that the actual the bike sharing table is the first element `table_nodes[[1]]`.\n"
   ]
  },
  {
   "cell_type": "markdown",
   "metadata": {},
   "source": [
    "Next, you need to convert this HTML table into a data frame using the `html_table()` function. You may choose to include `fill = TRUE` argument to fill any empty table rows/columns.\n"
   ]
  },
  {
   "cell_type": "code",
   "execution_count": 10,
   "metadata": {},
   "outputs": [
    {
     "name": "stdout",
     "output_type": "stream",
     "text": [
      "\u001b[90m# A tibble: 889 × 8\u001b[39m\n",
      "   Country   Country `City / Region` Name  System Operator Launched Discontinued\n",
      "   \u001b[3m\u001b[90m<chr>\u001b[39m\u001b[23m     \u001b[3m\u001b[90m<chr>\u001b[39m\u001b[23m   \u001b[3m\u001b[90m<chr>\u001b[39m\u001b[23m           \u001b[3m\u001b[90m<chr>\u001b[39m\u001b[23m \u001b[3m\u001b[90m<chr>\u001b[39m\u001b[23m  \u001b[3m\u001b[90m<chr>\u001b[39m\u001b[23m    \u001b[3m\u001b[90m<chr>\u001b[39m\u001b[23m    \u001b[3m\u001b[90m<chr>\u001b[39m\u001b[23m       \n",
      "\u001b[90m 1\u001b[39m Albania   Albania Tirana[5]       Ecov… \u001b[90m\"\u001b[39m\u001b[90m\"\u001b[39m     \u001b[90m\"\u001b[39m\u001b[90m\"\u001b[39m       March 2… \u001b[90m\"\u001b[39mDiscontinu…\n",
      "\u001b[90m 2\u001b[39m Argentina Argent… Buenos Aires[6… Ecob… \u001b[90m\"\u001b[39mSert… \u001b[90m\"\u001b[39mBike I… 2010     \u001b[90m\"\u001b[39m\u001b[90m\"\u001b[39m          \n",
      "\u001b[90m 3\u001b[39m Argentina Argent… Mendoza[10]     Metr… \u001b[90m\"\u001b[39m\u001b[90m\"\u001b[39m     \u001b[90m\"\u001b[39m\u001b[90m\"\u001b[39m       2014     \u001b[90m\"\u001b[39m\u001b[90m\"\u001b[39m          \n",
      "\u001b[90m 4\u001b[39m Argentina Argent… Rosario         Mi B… \u001b[90m\"\u001b[39m\u001b[90m\"\u001b[39m     \u001b[90m\"\u001b[39m\u001b[90m\"\u001b[39m       2 Decem… \u001b[90m\"\u001b[39m\u001b[90m\"\u001b[39m          \n",
      "\u001b[90m 5\u001b[39m Argentina Argent… San Lorenzo, S… Bici… \u001b[90m\"\u001b[39mBici… \u001b[90m\"\u001b[39m\u001b[90m\"\u001b[39m       27 Nove… \u001b[90m\"\u001b[39m\u001b[90m\"\u001b[39m          \n",
      "\u001b[90m 6\u001b[39m Australia Austra… Melbourne[12]   Melb… \u001b[90m\"\u001b[39mPBSC… \u001b[90m\"\u001b[39mMotiva… June 20… \u001b[90m\"\u001b[39m30 Novembe…\n",
      "\u001b[90m 7\u001b[39m Australia Austra… Melbourne[12]   oBike \u001b[90m\"\u001b[39m4 Ge… \u001b[90m\"\u001b[39m\u001b[90m\"\u001b[39m       July 20… \u001b[90m\"\u001b[39mJuly 2018\u001b[90m\"\u001b[39m \n",
      "\u001b[90m 8\u001b[39m Australia Austra… Brisbane[14][1… City… \u001b[90m\"\u001b[39m3 Ge… \u001b[90m\"\u001b[39mJCDeca… Septemb… \u001b[90m\"\u001b[39m\u001b[90m\"\u001b[39m          \n",
      "\u001b[90m 9\u001b[39m Australia Austra… Sydney          Redd… \u001b[90m\"\u001b[39mRedd… \u001b[90m\"\u001b[39m\u001b[90m\"\u001b[39m       July 20… \u001b[90m\"\u001b[39m\u001b[90m\"\u001b[39m          \n",
      "\u001b[90m10\u001b[39m Australia Austra… Sydney          oBike \u001b[90m\"\u001b[39m4 Ge… \u001b[90m\"\u001b[39m\u001b[90m\"\u001b[39m       July 20… \u001b[90m\"\u001b[39mJuly 2018\u001b[90m\"\u001b[39m \n",
      "\u001b[90m# ℹ 879 more rows\u001b[39m\n"
     ]
    }
   ],
   "source": [
    "# Convert the bike-sharing system table into a dataframe\n",
    "table_nodes <- html_nodes(root_node, \"table\")\n",
    "bike_share_df <- bike_share_df <-html_table(table_nodes[[1]], fill = TRUE)\n",
    "print(bike_share_df)"
   ]
  },
  {
   "cell_type": "markdown",
   "metadata": {},
   "source": [
    "Summarize the bike sharing system data frame\n"
   ]
  },
  {
   "cell_type": "code",
   "execution_count": 11,
   "metadata": {},
   "outputs": [
    {
     "data": {
      "text/plain": [
       "   Country            Country          City / Region          Name          \n",
       " Length:889         Length:889         Length:889         Length:889        \n",
       " Class :character   Class :character   Class :character   Class :character  \n",
       " Mode  :character   Mode  :character   Mode  :character   Mode  :character  \n",
       "    System            Operator           Launched         Discontinued      \n",
       " Length:889         Length:889         Length:889         Length:889        \n",
       " Class :character   Class :character   Class :character   Class :character  \n",
       " Mode  :character   Mode  :character   Mode  :character   Mode  :character  "
      ]
     },
     "metadata": {},
     "output_type": "display_data"
    }
   ],
   "source": [
    "# Summarize the dataframe\n",
    "summary(bike_share_df)"
   ]
  },
  {
   "cell_type": "markdown",
   "metadata": {},
   "source": [
    "Export the data frame as a csv file called `raw_bike_sharing_systems.csv`\n"
   ]
  },
  {
   "cell_type": "code",
   "execution_count": 12,
   "metadata": {},
   "outputs": [],
   "source": [
    "# Export the dataframe into a csv file\n",
    "write.csv(bike_share_df, \"bike_share_data.csv\", row.names = FALSE)"
   ]
  },
  {
   "cell_type": "markdown",
   "metadata": {},
   "source": [
    "For more details about webscraping with `rvest`, please refer to the previous webscraping notebook here:\n",
    "\n",
    "[Webscraping in R](https://cf-courses-data.s3.us.cloud-object-storage.appdomain.cloud/IBMDeveloperSkillsNetwork-RP0101EN-Coursera/v2/M4_Working_With_Data/lab3_jupyter_webscraping.ipynb)\n"
   ]
  },
  {
   "cell_type": "markdown",
   "metadata": {},
   "source": [
    "## Authors\n",
    "\n",
    "<a href=\"https://www.linkedin.com/in/yan-luo-96288783/\" target=\"_blank\">Yan Luo</a>\n"
   ]
  },
  {
   "cell_type": "markdown",
   "metadata": {},
   "source": [
    "### Other Contributors\n"
   ]
  },
  {
   "cell_type": "markdown",
   "metadata": {},
   "source": [
    "<!-- ## Change Log\n",
    "\n",
    "| Date (YYYY-MM-DD) | Version | Changed By | Change Description           |\n",
    "| ----------------- | ------- | ---------- | ---------------------------- |\n",
    "| 2021-04-05        | 0.1     | Yan        | Initial version created      |\n",
    "|                   |         |            |                              |\n",
    "|                   |         |            |                              | -->\n",
    "\n",
    "![footer](https://cf-courses-data.s3.us.cloud-object-storage.appdomain.cloud/zOMU1iwlZgwJXjWYzQAIgg/SNIBMfooter.png \"footer\")\n"
   ]
  }
 ],
 "metadata": {
  "kernelspec": {
   "display_name": "R",
   "language": "R",
   "name": "ir"
  },
  "language_info": {
   "codemirror_mode": "r",
   "file_extension": ".r",
   "mimetype": "text/x-r-source",
   "name": "R",
   "pygments_lexer": "r",
   "version": "4.4.2"
  },
  "prev_pub_hash": "62183662aec9862df455ca388040cc22fbf6a1def990699e3613248298305cb6"
 },
 "nbformat": 4,
 "nbformat_minor": 4
}
