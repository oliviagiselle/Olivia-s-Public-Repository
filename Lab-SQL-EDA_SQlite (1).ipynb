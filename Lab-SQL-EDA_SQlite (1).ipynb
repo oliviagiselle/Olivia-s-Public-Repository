{
 "cells": [
  {
   "cell_type": "markdown",
   "metadata": {},
   "source": [
    "<center>\n",
    "<img src=\"https://cf-courses-data.s3.us.cloud-object-storage.appdomain.cloud/IBMDeveloperSkillsNetwork-RP0321EN-SkillsNetwork/labs/module_1/images/SN_web_lightmode.png\" width=\"300\"> \n",
    "</center>\n",
    "\n",
    "# Assignment: Exploratory Data Analysis with SQL\n",
    "Estimated time needed: 60 minutes\n",
    "\n",
    "\n",
    "# Introduction\n",
    "Using this R notebook you will perform exploratory data analysis using SQL queries with the RSQLite R package. You will be graded on the accuracy of your results as well as the content of your SQL queries.\n"
   ]
  },
  {
   "cell_type": "markdown",
   "metadata": {},
   "source": [
    "### Establish your SQL Lite connection\n",
    "\n",
    "#### Install RSQLite package\n",
    "The RSQlite  package needs to be installed in your notebook. Let’s load the RSQLite package by clicking on the following cell and executing it (Shift+Enter):\n"
   ]
  },
  {
   "cell_type": "code",
   "execution_count": 2,
   "metadata": {},
   "outputs": [
    {
     "name": "stderr",
     "output_type": "stream",
     "text": [
      "Updating HTML index of packages in '.Library'\n",
      "\n",
      "Making 'packages.html' ...\n",
      " done\n",
      "\n"
     ]
    }
   ],
   "source": [
    "install.packages(\"RSQLite\")\n"
   ]
  },
  {
   "cell_type": "markdown",
   "metadata": {},
   "source": [
    "#### Restart Kernel\n",
    "\n",
    "After installing the RSQLite package, it is necessary to restart R Kernel. Click **Kernel** > **Restart Kernel** from the main menu. This will register the newly installed packages. Now proceed to load the RSQLite package. \n"
   ]
  },
  {
   "cell_type": "markdown",
   "metadata": {},
   "source": [
    "#### Load RSQLite\n",
    "Load the 'RSQLite' library, and use the 'dbConnect( )' function as you did in the previous labs to establish the connection to your SQLite database.  \n",
    "You are now ready to start running SQL queries using the RSQLite library as you did in Course 3.\n"
   ]
  },
  {
   "cell_type": "code",
   "execution_count": 10,
   "metadata": {},
   "outputs": [
    {
     "name": "stderr",
     "output_type": "stream",
     "text": [
      "── \u001b[1mAttaching core tidyverse packages\u001b[22m ──────────────────────── tidyverse 2.0.0 ──\n",
      "\u001b[32m✔\u001b[39m \u001b[34mdplyr    \u001b[39m 1.1.4     \u001b[32m✔\u001b[39m \u001b[34mreadr    \u001b[39m 2.1.5\n",
      "\u001b[32m✔\u001b[39m \u001b[34mforcats  \u001b[39m 1.0.0     \u001b[32m✔\u001b[39m \u001b[34mstringr  \u001b[39m 1.5.1\n",
      "\u001b[32m✔\u001b[39m \u001b[34mggplot2  \u001b[39m 3.5.1     \u001b[32m✔\u001b[39m \u001b[34mtibble   \u001b[39m 3.2.1\n",
      "\u001b[32m✔\u001b[39m \u001b[34mlubridate\u001b[39m 1.9.4     \u001b[32m✔\u001b[39m \u001b[34mtidyr    \u001b[39m 1.3.1\n",
      "\u001b[32m✔\u001b[39m \u001b[34mpurrr    \u001b[39m 1.0.2     \n",
      "── \u001b[1mConflicts\u001b[22m ────────────────────────────────────────── tidyverse_conflicts() ──\n",
      "\u001b[31m✖\u001b[39m \u001b[34mdplyr\u001b[39m::\u001b[32mfilter()\u001b[39m masks \u001b[34mstats\u001b[39m::filter()\n",
      "\u001b[31m✖\u001b[39m \u001b[34mdplyr\u001b[39m::\u001b[32mlag()\u001b[39m    masks \u001b[34mstats\u001b[39m::lag()\n",
      "\u001b[36mℹ\u001b[39m Use the conflicted package (\u001b[3m\u001b[34m<http://conflicted.r-lib.org/>\u001b[39m\u001b[23m) to force all conflicts to become errors\n"
     ]
    }
   ],
   "source": [
    "library(\"RSQLite\")\n",
    "library(tidyverse)"
   ]
  },
  {
   "cell_type": "code",
   "execution_count": 5,
   "metadata": {},
   "outputs": [
    {
     "name": "stdout",
     "output_type": "stream",
     "text": [
      "Connection to the database was successful!"
     ]
    }
   ],
   "source": [
    "# Create a connection to the SQLite database (replace 'your_database.sqlite' with your database filename)\n",
    "con <- dbConnect(RSQLite::SQLite(), \"your_database.sqlite\")\n",
    "\n",
    "# Check if the connection is successful\n",
    "if (inherits(con, \"SQLiteConnection\")) {\n",
    "  cat(\"Connection to the database was successful!\")\n",
    "} else {\n",
    "  cat(\"Failed to connect to the database.\")\n",
    "}"
   ]
  },
  {
   "cell_type": "markdown",
   "metadata": {},
   "source": [
    "Download the following csv files:\n",
    "\n",
    "*   [WORLD_CITIES](https://cf-courses-data.s3.us.cloud-object-storage.appdomain.cloud/IBMDeveloperSkillsNetwork-RP0321EN-SkillsNetwork/labs/datasets/world_cities.csv)\n",
    "\n",
    "*   [BIKE_SHARING_SYSTEMS](https://cf-courses-data.s3.us.cloud-object-storage.appdomain.cloud/IBMDeveloperSkillsNetwork-RP0321EN-SkillsNetwork/labs/datasets/bike_sharing_systems.csv)\n",
    "\n",
    "*   [CITIES_WEATHER_FORECAST](https://cf-courses-data.s3.us.cloud-object-storage.appdomain.cloud/IBMDeveloperSkillsNetwork-RP0321EN-SkillsNetwork/labs/datasets/cities_weather_forecast.csv)\n",
    "\n",
    "*   [SEOUL_BIKE_SHARING](https://cf-courses-data.s3.us.cloud-object-storage.appdomain.cloud/IBMDeveloperSkillsNetwork-RP0321EN-SkillsNetwork/labs/datasets/seoul_bike_sharing.csv)\n",
    "\n",
    "and load the csv's  into 4 tables as mentioned below\n",
    "* SEOUL_BIKE_SHARING\n",
    "\n",
    "* CITIES_WEATHER_FORECAST\n",
    "\n",
    "* BIKE_SHARING_SYSTEMS \n",
    "\n",
    "*  WORLD_CITIES\n",
    "\n",
    "> Hint : Use the read_csv() function and dbWriteTable() functions\n"
   ]
  },
  {
   "cell_type": "code",
   "execution_count": 11,
   "metadata": {
    "scrolled": true
   },
   "outputs": [
    {
     "name": "stderr",
     "output_type": "stream",
     "text": [
      "\u001b[1mRows: \u001b[22m\u001b[34m26569\u001b[39m \u001b[1mColumns: \u001b[22m\u001b[34m11\u001b[39m\n",
      "\u001b[36m──\u001b[39m \u001b[1mColumn specification\u001b[22m \u001b[36m────────────────────────────────────────────────────────\u001b[39m\n",
      "\u001b[1mDelimiter:\u001b[22m \",\"\n",
      "\u001b[31mchr\u001b[39m (7): City, CITY_ASCII, COUNTRY, ISO2, ISO3, ADMIN_NAME, CAPITAL\n",
      "\u001b[32mdbl\u001b[39m (4): LAT, LNG, POPULATION, ID\n",
      "\n",
      "\u001b[36mℹ\u001b[39m Use `spec()` to retrieve the full column specification for this data.\n",
      "\u001b[36mℹ\u001b[39m Specify the column types or set `show_col_types = FALSE` to quiet this message.\n",
      "\u001b[1mRows: \u001b[22m\u001b[34m480\u001b[39m \u001b[1mColumns: \u001b[22m\u001b[34m10\u001b[39m\n",
      "\u001b[36m──\u001b[39m \u001b[1mColumn specification\u001b[22m \u001b[36m────────────────────────────────────────────────────────\u001b[39m\n",
      "\u001b[1mDelimiter:\u001b[22m \",\"\n",
      "\u001b[31mchr\u001b[39m (10): COUNTRY, City, Name, SYSTEM, OPERATOR, LAUNCHED, DISCONTINUED, STA...\n",
      "\n",
      "\u001b[36mℹ\u001b[39m Use `spec()` to retrieve the full column specification for this data.\n",
      "\u001b[36mℹ\u001b[39m Specify the column types or set `show_col_types = FALSE` to quiet this message.\n",
      "\u001b[1mRows: \u001b[22m\u001b[34m160\u001b[39m \u001b[1mColumns: \u001b[22m\u001b[34m12\u001b[39m\n",
      "\u001b[36m──\u001b[39m \u001b[1mColumn specification\u001b[22m \u001b[36m────────────────────────────────────────────────────────\u001b[39m\n",
      "\u001b[1mDelimiter:\u001b[22m \",\"\n",
      "\u001b[31mchr\u001b[39m  (3): city, weather, season\n",
      "\u001b[32mdbl\u001b[39m  (8): visibility, temp, temp_min, temp_max, pressure, humidity, wind_spe...\n",
      "\u001b[34mdttm\u001b[39m (1): forecast_datetime\n",
      "\n",
      "\u001b[36mℹ\u001b[39m Use `spec()` to retrieve the full column specification for this data.\n",
      "\u001b[36mℹ\u001b[39m Specify the column types or set `show_col_types = FALSE` to quiet this message.\n",
      "\u001b[1mRows: \u001b[22m\u001b[34m8760\u001b[39m \u001b[1mColumns: \u001b[22m\u001b[34m14\u001b[39m\n",
      "\u001b[36m──\u001b[39m \u001b[1mColumn specification\u001b[22m \u001b[36m────────────────────────────────────────────────────────\u001b[39m\n",
      "\u001b[1mDelimiter:\u001b[22m \",\"\n",
      "\u001b[31mchr\u001b[39m  (4): Date, SEASONS, HOLIDAY, FUNCTIONING_DAY\n",
      "\u001b[32mdbl\u001b[39m (10): RENTED_BIKE_COUNT, Hour, TEMPERATURE, HUMIDITY, WIND_SPEED, Visibi...\n",
      "\n",
      "\u001b[36mℹ\u001b[39m Use `spec()` to retrieve the full column specification for this data.\n",
      "\u001b[36mℹ\u001b[39m Specify the column types or set `show_col_types = FALSE` to quiet this message.\n"
     ]
    }
   ],
   "source": [
    "# Download the CSV files\n",
    "download.file(\"https://cf-courses-data.s3.us.cloud-object-storage.appdomain.cloud/IBMDeveloperSkillsNetwork-RP0321EN-SkillsNetwork/labs/datasets/raw_worldcities.csv\", \"raw_worldcities.csv\")\n",
    "download.file(\"https://cf-courses-data.s3.us.cloud-object-storage.appdomain.cloud/IBMDeveloperSkillsNetwork-RP0321EN-SkillsNetwork/labs/datasets/raw_bike_sharing_systems.csv\", \"raw_bike_sharing_systems.csv\")\n",
    "download.file(\"https://cf-courses-data.s3.us.cloud-object-storage.appdomain.cloud/IBMDeveloperSkillsNetwork-RP0321EN-SkillsNetwork/labs/datasets/raw_cities_weather_forecast.csv\", \"raw_cities_weather_forecast.csv\")\n",
    "download.file(\"https://cf-courses-data.s3.us.cloud-object-storage.appdomain.cloud/IBMDeveloperSkillsNetwork-RP0321EN-SkillsNetwork/labs/datasets/raw_seoul_bike_sharing.csv\", \"raw_seoul_bike_sharing.csv\")\n",
    "\n",
    "# Load the CSV files into R\n",
    "world_cities_df <- read_csv(\"raw_worldcities.csv\")\n",
    "bike_sharing_systems_df <- read_csv(\"raw_bike_sharing_systems.csv\")\n",
    "cities_weather_forecast_df <- read_csv(\"raw_cities_weather_forecast.csv\")\n",
    "seoul_bike_sharing_df <- read_csv(\"raw_seoul_bike_sharing.csv\")\n",
    "\n",
    "# Write the data frames into the SQLite database as tables\n",
    "# Write the data frames into the SQLite database as tables\n",
    "dbWriteTable(con, \"WORLD_CITIES\", world_cities_df, overwrite = TRUE)\n",
    "dbWriteTable(con, \"BIKE_SHARING_SYSTEMS\", bike_sharing_systems_df, overwrite = TRUE)\n",
    "dbWriteTable(con, \"CITIES_WEATHER_FORECAST\", cities_weather_forecast_df, overwrite = TRUE)\n",
    "dbWriteTable(con, \"SEOUL_BIKE_SHARING\", seoul_bike_sharing_df, overwrite = TRUE)\n"
   ]
  },
  {
   "cell_type": "markdown",
   "metadata": {},
   "source": [
    "\n",
    "## Task 1 - Record Count\n",
    "#### Determine how many records are in the seoul_bike_sharing dataset.\n"
   ]
  },
  {
   "cell_type": "markdown",
   "metadata": {},
   "source": [
    "### Solution 1\n"
   ]
  },
  {
   "cell_type": "code",
   "execution_count": 12,
   "metadata": {},
   "outputs": [
    {
     "name": "stdout",
     "output_type": "stream",
     "text": [
      "  COUNT (*)\n",
      "1      8760\n"
     ]
    }
   ],
   "source": [
    "# provide your solution here\n",
    "query <- \"SELECT COUNT (*) FROM seoul_bike_sharing\"\n",
    "seoul_bike_sharing_record_count <- dbGetQuery(con, query)\n",
    "print(seoul_bike_sharing_record_count)"
   ]
  },
  {
   "cell_type": "markdown",
   "metadata": {},
   "source": [
    "## Task 2 - Operational Hours\n",
    "#### Determine how many hours had non-zero rented bike count.\n"
   ]
  },
  {
   "cell_type": "markdown",
   "metadata": {},
   "source": [
    "### Solution 2\n"
   ]
  },
  {
   "cell_type": "code",
   "execution_count": 26,
   "metadata": {},
   "outputs": [
    {
     "name": "stdout",
     "output_type": "stream",
     "text": [
      "  seoul_bike_sharing_non_zero_hours\n",
      "1                             97407\n"
     ]
    }
   ],
   "source": [
    "# provide your solution here\n",
    "query <- \"SELECT SUM(HOUR) AS seoul_bike_sharing_non_zero_hours \n",
    "FROM seoul_bike_sharing WHERE RENTED_BIKE_COUNT >=1\"\n",
    "seoul_bike_sharing_non_zero_hours <- dbGetQuery(con, query)\n",
    "print(seoul_bike_sharing_non_zero_hours)"
   ]
  },
  {
   "cell_type": "markdown",
   "metadata": {},
   "source": [
    "## Task 3 - Weather Outlook\n",
    "#### Query the the weather forecast for Seoul over the next 3 hours.\n",
    "Recall that the records in the CITIES_WEATHER_FORECAST dataset are 3 hours apart, so we just need the first record from the query.\n"
   ]
  },
  {
   "cell_type": "markdown",
   "metadata": {},
   "source": [
    "### Solution 3\n"
   ]
  },
  {
   "cell_type": "code",
   "execution_count": 17,
   "metadata": {},
   "outputs": [
    {
     "name": "stdout",
     "output_type": "stream",
     "text": [
      "  weather\n",
      "1   Clear\n"
     ]
    }
   ],
   "source": [
    "# provide your solution here\n",
    "query <- \"SELECT WEATHER FROM CITIES_WEATHER_FORECAST limit 1\"\n",
    "CITIES_WEATHER_FORECAST_next3hours <- dbGetQuery(con, query)\n",
    "print(CITIES_WEATHER_FORECAST_next3hours)"
   ]
  },
  {
   "cell_type": "markdown",
   "metadata": {},
   "source": [
    "## Task 4 - Seasons\n",
    "#### Find which seasons are included in the seoul bike sharing dataset.\n"
   ]
  },
  {
   "cell_type": "markdown",
   "metadata": {},
   "source": [
    "### Solution 4\n"
   ]
  },
  {
   "cell_type": "code",
   "execution_count": 21,
   "metadata": {},
   "outputs": [
    {
     "name": "stdout",
     "output_type": "stream",
     "text": [
      "  SEASONS\n",
      "1  Autumn\n",
      "2  Spring\n",
      "3  Summer\n",
      "4  Winter\n"
     ]
    }
   ],
   "source": [
    "# provide your solution here\n",
    "query <- \"SELECT SEASONS FROM seoul_bike_sharing GROUP BY SEASONS\"\n",
    "seoul_bike_sharing_SEASONS <- dbGetQuery(con, query)\n",
    "print(seoul_bike_sharing_SEASONS)"
   ]
  },
  {
   "cell_type": "markdown",
   "metadata": {},
   "source": [
    "## Task 5 - Date Range\n",
    "#### Find the first and last dates in the Seoul Bike Sharing dataset.\n"
   ]
  },
  {
   "cell_type": "markdown",
   "metadata": {},
   "source": [
    "### Solution 5\n"
   ]
  },
  {
   "cell_type": "code",
   "execution_count": 24,
   "metadata": {},
   "outputs": [
    {
     "name": "stdout",
     "output_type": "stream",
     "text": [
      "   LAST_DATE FIRST_DATE\n",
      "1 01/01/2018 31/12/2017\n"
     ]
    }
   ],
   "source": [
    "# provide your solution here\n",
    "query <- \"SELECT MIN(DATE) as LAST_DATE, MAX(DATE) as FIRST_DATE\n",
    "FROM seoul_bike_sharing\"\n",
    "MIN_MAX_DATES <- dbGetQuery(con, query)\n",
    "print(MIN_MAX_DATES)"
   ]
  },
  {
   "cell_type": "markdown",
   "metadata": {},
   "source": [
    "## Task 6 - Subquery - 'all-time high'\n",
    "#### determine which date and hour had the most bike rentals.\n"
   ]
  },
  {
   "cell_type": "markdown",
   "metadata": {},
   "source": [
    "### Solution 6\n"
   ]
  },
  {
   "cell_type": "code",
   "execution_count": 28,
   "metadata": {},
   "outputs": [
    {
     "name": "stdout",
     "output_type": "stream",
     "text": [
      "        Date Hour RENTED_BIKE_COUNT\n",
      "1 19/06/2018   18              3556\n"
     ]
    }
   ],
   "source": [
    "# provide your solution here\n",
    "query <- \"SELECT DATE, HOUR, RENTED_BIKE_COUNT FROM SEOUL_BIKE_SHARING \n",
    "WHERE RENTED_BIKE_COUNT = (SELECT MAX(RENTED_BIKE_COUNT) \n",
    "FROM SEOUL_BIKE_SHARING)\"\n",
    "all_time_high <- dbGetQuery(con, query)\n",
    "print(all_time_high)"
   ]
  },
  {
   "cell_type": "markdown",
   "metadata": {},
   "source": [
    "## Task 7 - Hourly popularity and temperature by season\n",
    "#### Determine the average hourly temperature and the average number of bike rentals per hour over each season. List the top ten results by average bike count.\n"
   ]
  },
  {
   "cell_type": "markdown",
   "metadata": {},
   "source": [
    "### Solution 7\n"
   ]
  },
  {
   "cell_type": "code",
   "execution_count": 36,
   "metadata": {},
   "outputs": [
    {
     "name": "stdout",
     "output_type": "stream",
     "text": [
      "   AVG(TEMPERATURE) AVG(RENTED_BIKE_COUNT) Hour SEASONS\n",
      "1         10.176932              1050.2295    8  Winter\n",
      "2         15.272473              1554.0170   18  Winter\n",
      "3         14.249286              1235.7762   19  Winter\n",
      "4         16.203251              1177.2125   17  Winter\n",
      "5         11.336813               667.9433    9  Winter\n",
      "6         16.896384               962.2578   16  Winter\n",
      "7         17.036164               857.3739   15  Winter\n",
      "8          9.581041               626.6062    7  Winter\n",
      "9         16.229945               758.1728   13  Winter\n",
      "10        15.462192               723.2181   12  Winter\n"
     ]
    }
   ],
   "source": [
    "# provide your solution here\n",
    "query <- \"SELECT AVG(TEMPERATURE), AVG(RENTED_BIKE_COUNT), HOUR, SEASONS\n",
    "FROM seoul_bike_sharing GROUP BY HOUR ORDER BY RENTED_BIKE_COUNT DESC LIMIT 10\"\n",
    "temp_rentals_byseason = dbGetQuery(con, query)\n",
    "print(temp_rentals_byseason)"
   ]
  },
  {
   "cell_type": "markdown",
   "metadata": {},
   "source": [
    "## Task 8 - Rental Seasonality\n",
    "#### Find the average hourly bike count during each season. \n",
    "Also include the minimum, maximum, and standard deviation of the hourly bike count for each season. \n",
    "\n",
    "> Hint : Use the SQRT(AVG(col*col) - AVG(col)*AVG(col) ) function where col refers to your column name for finding the standard deviation\n"
   ]
  },
  {
   "cell_type": "markdown",
   "metadata": {},
   "source": [
    "### Solution 8\n"
   ]
  },
  {
   "cell_type": "code",
   "execution_count": 41,
   "metadata": {},
   "outputs": [
    {
     "name": "stdout",
     "output_type": "stream",
     "text": [
      "  SEASONS AVG_BIKE_COUNT MIN_BIKE_COUNT MAX_BIKE_COUNT SD_BIKE_COUNT\n",
      "1  Autumn       924.1105              2           3298      617.3885\n",
      "2  Spring       746.2542              2           3251      618.5247\n",
      "3  Summer      1034.0734              9           3556      690.0884\n",
      "4  Winter       225.5412              3            937      150.3374\n"
     ]
    }
   ],
   "source": [
    "# provide your solution here\n",
    "query <- \"\n",
    "SELECT \n",
    "  SEASONS,\n",
    "  AVG(RENTED_BIKE_COUNT) AS AVG_BIKE_COUNT,\n",
    "  MIN(RENTED_BIKE_COUNT) AS MIN_BIKE_COUNT,\n",
    "  MAX(RENTED_BIKE_COUNT) AS MAX_BIKE_COUNT,\n",
    "  SQRT(AVG(RENTED_BIKE_COUNT * RENTED_BIKE_COUNT) - \n",
    "       AVG(RENTED_BIKE_COUNT) * AVG(RENTED_BIKE_COUNT)) AS SD_BIKE_COUNT\n",
    "FROM SEOUL_BIKE_SHARING\n",
    "GROUP BY SEASONS\n",
    "\"\n",
    "avg_bike_count_byseason <- dbGetQuery(con, query)\n",
    "print(avg_bike_count_byseason)"
   ]
  },
  {
   "cell_type": "markdown",
   "metadata": {},
   "source": [
    "Let's explore a bit and see what might be the most significant contributing factors in terms of the provided data.\n"
   ]
  },
  {
   "cell_type": "markdown",
   "metadata": {},
   "source": [
    "## Task 9 - Weather Seasonality\n",
    "#### Consider the weather over each season. On average, what were the TEMPERATURE, HUMIDITY, WIND_SPEED, VISIBILITY, DEW_POINT_TEMPERATURE, SOLAR_RADIATION, RAINFALL, and SNOWFALL per season?\n",
    "Include the average bike count as well , and rank the results by average bike count so you can see if it is correlated with the weather at all. \n"
   ]
  },
  {
   "cell_type": "markdown",
   "metadata": {},
   "source": [
    "### Solution 9\n"
   ]
  },
  {
   "cell_type": "code",
   "execution_count": 50,
   "metadata": {},
   "outputs": [
    {
     "name": "stdout",
     "output_type": "stream",
     "text": [
      "  SEASONS  AVG_TEMP AVG_HUMIDITY AVG_WIND AVG_VISIBILITY AVG_DEW_POINT\n",
      "1  Winter -2.540463     49.74491 1.922685       1445.987    -12.416667\n",
      "2  Spring 13.046612     58.77672 1.874592       1240.365      4.120063\n",
      "3  Autumn 14.120733     59.22848 1.494734       1560.752      5.498718\n",
      "4  Summer 26.587711     64.98143 1.609420       1501.745     18.750136\n",
      "  AVG_SOLAR   AVG_RAIN   AVG_SNOW AVG_RENTALS\n",
      "1 0.2981806 0.03282407 0.24750000    225.5412\n",
      "2 0.6887862 0.18288043 0.00000000    746.2542\n",
      "3 0.5218178 0.12275641 0.05631868    924.1105\n",
      "4 0.7612545 0.25348732 0.00000000   1034.0734\n"
     ]
    }
   ],
   "source": [
    "# provide your solution here\n",
    "query <- \"\n",
    "SELECT \n",
    "  SEASONS,\n",
    "  AVG(TEMPERATURE) AS AVG_TEMP, \n",
    "  AVG(HUMIDITY) AS AVG_HUMIDITY, \n",
    "  AVG(WIND_SPEED) AS AVG_WIND, \n",
    "  AVG(VISIBILITY) AS AVG_VISIBILITY, \n",
    "  AVG(DEW_POINT_TEMPERATURE) AS AVG_DEW_POINT, \n",
    "  AVG(SOLAR_RADIATION) AS AVG_SOLAR, \n",
    "  AVG(RAINFALL) AS AVG_RAIN, \n",
    "  AVG(SNOWFALL) AS AVG_SNOW, \n",
    "  AVG(RENTED_BIKE_COUNT) AS AVG_RENTALS\n",
    "FROM SEOUL_BIKE_SHARING\n",
    "GROUP BY SEASONS\n",
    "ORDER BY AVG_RENTALS ASC\n",
    "\"\n",
    "avg_conditions_byseason <- dbGetQuery(con, query)\n",
    "print(avg_conditions_byseason)"
   ]
  },
  {
   "cell_type": "markdown",
   "metadata": {},
   "source": [
    "## Task 10 - Total Bike Count and City Info for Seoul\n",
    "#### Use an implicit join across the WORLD_CITIES and the BIKE_SHARING_SYSTEMS tables to determine the total number of bikes avaialble in Seoul, plus the following city information about Seoul: CITY, COUNTRY, LAT, LON, POPULATION, in a single view.\n",
    "Notice that in this case, the CITY column will work for the WORLD_CITIES table, but in general you would have to use the CITY_ASCII column.\n"
   ]
  },
  {
   "cell_type": "markdown",
   "metadata": {},
   "source": [
    "### Solution 10\n"
   ]
  },
  {
   "cell_type": "code",
   "execution_count": 62,
   "metadata": {},
   "outputs": [
    {
     "name": "stdout",
     "output_type": "stream",
     "text": [
      "   City      COUNTRY     LAT LNG POPULATION TOTAL_BIKES\n",
      "1 Seoul Korea, South 37.5833 127   21794000       20000\n"
     ]
    }
   ],
   "source": [
    "# provide your solution here\n",
    "query <- \"\n",
    "SELECT \n",
    "  wc.CITY, \n",
    "  wc.COUNTRY, \n",
    "  wc.LAT, \n",
    "  wc.LNG, \n",
    "  wc.POPULATION, \n",
    "  SUM(bss.BICYCLES) AS TOTAL_BIKES\n",
    "FROM \n",
    "  WORLD_CITIES wc, \n",
    "  BIKE_SHARING_SYSTEMS bss\n",
    "WHERE \n",
    "  wc.CITY LIKE 'Seoul%' \n",
    "  AND bss.CITY LIKE 'Seoul%' \n",
    "GROUP BY \n",
    "  wc.CITY, wc.COUNTRY, wc.LAT, wc.LNG, wc.POPULATION\n",
    "\"\n",
    "seoul_bike_info <- dbGetQuery(con, query)\n",
    "print(seoul_bike_info)\n"
   ]
  },
  {
   "cell_type": "markdown",
   "metadata": {},
   "source": [
    "## Task 11 - Find all city names and coordinates with comparable bike scale to Seoul's bike sharing system\n",
    "#### Find all cities with total bike counts between 15000 and 20000. Return the city and country names, plus the coordinates (LAT, LNG), population, and number of bicycles for each city.\n",
    "Later we will ask you to visualize these similar cities on leaflet, with some weather data.\n"
   ]
  },
  {
   "cell_type": "markdown",
   "metadata": {},
   "source": [
    "### Solution 11\n"
   ]
  },
  {
   "cell_type": "code",
   "execution_count": 71,
   "metadata": {},
   "outputs": [
    {
     "name": "stdout",
     "output_type": "stream",
     "text": [
      "     City COUNTRY     LAT      LNG POPULATION TOTAL_BIKES\n",
      "1 Beijing   China 39.9050 116.3914   19433000       16000\n",
      "2   Milan   Italy 45.4669   9.1900    1351562       17000\n",
      "3  Ningbo   China 29.8750 121.5492    7639000       15000\n",
      "4 Weifang   China 36.7167 119.1000    9373000       20000\n",
      "5 Zhuzhou   China 27.8407 113.1469    3855609       20000\n"
     ]
    }
   ],
   "source": [
    "# provide your solution here\n",
    "query <- \"\n",
    "SELECT \n",
    "  wc.CITY, \n",
    "  wc.COUNTRY, \n",
    "  wc.LAT, \n",
    "  wc.LNG, \n",
    "  wc.POPULATION, \n",
    "  SUM(bss.BICYCLES) AS TOTAL_BIKES\n",
    "FROM \n",
    "  WORLD_CITIES wc\n",
    "JOIN \n",
    "  BIKE_SHARING_SYSTEMS bss ON wc.CITY = bss.CITY AND wc.COUNTRY = bss.COUNTRY\n",
    "GROUP BY \n",
    "  wc.CITY, wc.COUNTRY, wc.LAT, wc.LNG, wc.POPULATION\n",
    "HAVING \n",
    "  SUM(bss.BICYCLES) BETWEEN 15000 AND 20000;\"\n",
    "bike_count <- dbGetQuery(con, query)\n",
    "print(bike_count)"
   ]
  },
  {
   "cell_type": "code",
   "execution_count": 75,
   "metadata": {},
   "outputs": [],
   "source": [
    "dbDisconnect(con)"
   ]
  },
  {
   "cell_type": "markdown",
   "metadata": {},
   "source": [
    "## Author(s)\n",
    "\n",
    "<h4> Jeff Grossman </h4>\n",
    "<h4> Lakshmi Holla </h4>\n",
    "\n",
    "\n",
    "## Other Contributor(s)\n",
    "\n",
    "<h4>  Malika Singla </h4>\n",
    "\n",
    "<!--## Change log\n",
    "\n",
    "| Date (YYYY-MM-DD) | Version | Changed By | Change Description                 |\n",
    "| ----------------- | ------- | ---------- | ---------------------------------- |\n",
    "| 2022-03-03        | 1.0     |Lakshmi Holla  | Created lab using sqlite3          |-->\n",
    "\n",
    "## <h3 align=\"center\"> © IBM Corporation 2022. All rights reserved. <h3/>\n"
   ]
  },
  {
   "cell_type": "code",
   "execution_count": null,
   "metadata": {},
   "outputs": [],
   "source": []
  }
 ],
 "metadata": {
  "kernelspec": {
   "display_name": "R",
   "language": "R",
   "name": "ir"
  },
  "language_info": {
   "codemirror_mode": "r",
   "file_extension": ".r",
   "mimetype": "text/x-r-source",
   "name": "R",
   "pygments_lexer": "r",
   "version": "4.4.2"
  },
  "prev_pub_hash": "a1035d2263d59b4555fbf1de2034910a6356cb94ee9658cc0c379ead18c4444c"
 },
 "nbformat": 4,
 "nbformat_minor": 4
}
