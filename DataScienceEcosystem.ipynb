{
 "cells": [
  {
   "cell_type": "markdown",
   "id": "57b7dba0-364e-438a-b4f2-d4498dc43976",
   "metadata": {},
   "source": [
    "# Data Science Tools and Ecosystem"
   ]
  },
  {
   "cell_type": "markdown",
   "id": "3034e698-ced4-4b70-833a-f932389b3432",
   "metadata": {},
   "source": [
    "In this notebook, Data Science Tools and Ecosystem are summarized."
   ]
  },
  {
   "cell_type": "markdown",
   "id": "98982f5f-984a-4ca0-beb8-46dfd235ff1c",
   "metadata": {},
   "source": [
    "Some of the popular languages that Data Scientists use are:\n",
    "1. python\n",
    "2. R\n",
    "3. SQL\n"
   ]
  },
  {
   "cell_type": "markdown",
   "id": "8f30990a-8126-4c1a-ac8c-9c03bf9cdd71",
   "metadata": {},
   "source": [
    "Some of the commonly used libraries used by Data Scientists include:\n",
    "1. Pandas\n",
    "2. Seaborn\n",
    "3. Plotly"
   ]
  },
  {
   "cell_type": "markdown",
   "id": "621fc385-63a9-48c7-ac5a-fe2d6a57de42",
   "metadata": {
    "jp-MarkdownHeadingCollapsed": true
   },
   "source": [
    "| Data Science Tools |\n",
    "| -------------------|\n",
    "| Jupyter Notebooks |\n",
    "| RStudio | \n",
    "| Watson Studio |"
   ]
  },
  {
   "cell_type": "markdown",
   "id": "a09b5bda-7df9-40fc-baf3-ca041bac95a1",
   "metadata": {},
   "source": [
    "### Below are a few examples of evaluating arithmetic expressions in Python"
   ]
  },
  {
   "cell_type": "code",
   "execution_count": 18,
   "id": "30364e9c-bd77-446b-86b4-945340a43e30",
   "metadata": {},
   "outputs": [
    {
     "data": {
      "text/plain": [
       "17"
      ]
     },
     "execution_count": 18,
     "metadata": {},
     "output_type": "execute_result"
    }
   ],
   "source": [
    "# This a simple arithmetic expression to mutiply then add integers\n",
    "(3*4)+5\n"
   ]
  },
  {
   "cell_type": "code",
   "execution_count": 20,
   "id": "c7b711f4-8fc0-4245-b393-93020b92e084",
   "metadata": {},
   "outputs": [
    {
     "data": {
      "text/plain": [
       "3.3333333333333335"
      ]
     },
     "execution_count": 20,
     "metadata": {},
     "output_type": "execute_result"
    }
   ],
   "source": [
    "# This will convert 200 minutes to hours by diving by 60\n",
    "200/60"
   ]
  },
  {
   "cell_type": "markdown",
   "id": "6a87bd84-b1d4-4cf9-9c6a-8c9282bea761",
   "metadata": {},
   "source": [
    "**Objectives:**\n",
    "- List popular languages for Data Science\n",
    "- List commonly used libraries used by Data Scientists\n",
    "- List Data Science tools"
   ]
  },
  {
   "cell_type": "markdown",
   "id": "79a72c71-b089-4f98-b9fc-dbe015a87ba7",
   "metadata": {},
   "source": [
    "## Author\n",
    "Olivia"
   ]
  },
  {
   "cell_type": "code",
   "execution_count": null,
   "id": "c0da1620-fb51-4c43-b7b5-209ad97a35e0",
   "metadata": {},
   "outputs": [],
   "source": []
  }
 ],
 "metadata": {
  "kernelspec": {
   "display_name": "Python [conda env:base] *",
   "language": "python",
   "name": "conda-base-py"
  },
  "language_info": {
   "codemirror_mode": {
    "name": "ipython",
    "version": 3
   },
   "file_extension": ".py",
   "mimetype": "text/x-python",
   "name": "python",
   "nbconvert_exporter": "python",
   "pygments_lexer": "ipython3",
   "version": "3.12.7"
  }
 },
 "nbformat": 4,
 "nbformat_minor": 5
}
