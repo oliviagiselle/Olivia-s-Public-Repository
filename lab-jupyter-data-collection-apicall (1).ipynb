{
 "cells": [
  {
   "cell_type": "markdown",
   "metadata": {},
   "source": [
    "<center>\n",
    "<img src=\"https://cf-courses-data.s3.us.cloud-object-storage.appdomain.cloud/IBMDeveloperSkillsNetwork-RP0321EN-SkillsNetwork/labs/module_1/images/SN_web_lightmode.png\" width=\"300\"> \n",
    "</center>\n"
   ]
  },
  {
   "cell_type": "markdown",
   "metadata": {},
   "source": [
    "<h1>OpenWeather APIs Calls</h1>\n",
    "\n",
    "Estimated time needed: **40** minutes\n"
   ]
  },
  {
   "cell_type": "markdown",
   "metadata": {},
   "source": [
    "## Lab Overview:\n",
    "\n",
    "In this lab, you will be collecting real-time current and forecasted weather data for cities using the **OpenWeather API**. It can give you current weather data for any location including over 200,000 cities and 5 day forecasts for free (with limited API usage). You just need to use HTTP requests to call those weather APIs and get the weather data.\n",
    "\n",
    "You will be given instructions to set up a free OpenWeather API account with an API key for authentication. Then, you will be shown, with code examples, how to get the current weather for a given city. After you are familiar with OpenWeather API, you will be asked to get 5-day forecast data for a list of cities.\n"
   ]
  },
  {
   "cell_type": "markdown",
   "metadata": {},
   "source": [
    "## Setup OpenWeather API account\n"
   ]
  },
  {
   "cell_type": "markdown",
   "metadata": {},
   "source": [
    "You can create an OpenWeather API account [here](https://home.openweathermap.org/users/sign_up). After your account has been created and verified, you can go to Account -> My API Keys:\n"
   ]
  },
  {
   "cell_type": "markdown",
   "metadata": {},
   "source": [
    "<a href=\"https://cognitiveclass.ai/\">\n",
    "    <img src=\"https://cf-courses-data.s3.us.cloud-object-storage.appdomain.cloud/IBMDeveloperSkillsNetwork-RP0321EN-SkillsNetwork/labs/module_1/images/l2-openweather-apikey.png\" width=\"400\" align=\"center\">\n",
    "</a>\n"
   ]
  },
  {
   "cell_type": "markdown",
   "metadata": {},
   "source": [
    "and find your API key here:\n"
   ]
  },
  {
   "cell_type": "markdown",
   "metadata": {},
   "source": [
    "<a href=\"https://cognitiveclass.ai/\">\n",
    "    <img src=\"https://cf-courses-data.s3.us.cloud-object-storage.appdomain.cloud/IBMDeveloperSkillsNetwork-RP0321EN-SkillsNetwork/labs/module_1/images/l2-openweather-apikey-value.png\" width=\"400\" align=\"center\">\n",
    "</a>\n"
   ]
  },
  {
   "cell_type": "markdown",
   "metadata": {},
   "source": [
    "Now mark down your generated API key, which will be used to authenticate your HTTP requests to OpenWeather API.\n",
    "\n",
    "Note that a new API key may take some time to be activated. You may quickly try the following URL using a web browser.\n",
    "\n",
    "With the `{your_api_key}` URL parameter replaced by your own API key and go to the following URL:\n",
    "\n",
    "https://api.openweathermap.org/data/2.5/weather?q=Seoul&appid={your_api_key}\n"
   ]
  },
  {
   "cell_type": "markdown",
   "metadata": {},
   "source": [
    "\n",
    "until you see some weather data returned (instead of 401 or other error status), similar to the following JSON result:\n",
    "\n",
    "```\n",
    "{\"coord\":{\"lon\":126.9778,\"lat\":37.5683},\n",
    "\"weather\":[{\"id\":800,\"main\":\"Clear\",\"description\":\"clear sky\",\"icon\":\"01n\"}],\n",
    "\"base\":\"stations\",\n",
    "\"main\":{\"temp\":285.16,\"feels_like\":284.04,\"temp_min\":284.15,\"temp_max\":287.15,\"pressure\":1020,\"humidity\":62},\n",
    "\"visibility\":10000,\n",
    "\"wind\":{\"speed\":1.03,\"deg\":220},\"clouds\":{\"all\":0},\"dt\":1617718307,\"sys\":{\"type\":1,\"id\":8105,\"country\":\"KR\",\"sunrise\":1617657021,\"sunset\":1617703103},\"timezone\":32400,\"id\":1835848,\"name\":\"Seoul\",\"cod\":200}\n",
    "```\n"
   ]
  },
  {
   "cell_type": "markdown",
   "metadata": {},
   "source": [
    "## Coding Practice: Get the current weather data for a city using OpenWeather API\n"
   ]
  },
  {
   "cell_type": "markdown",
   "metadata": {},
   "source": [
    "First import `httr` library. Run install.packages(\"httr\") prior to loading the package only if you are running this lab locally on RStudio on your system.\n"
   ]
  },
  {
   "cell_type": "code",
   "execution_count": 11,
   "metadata": {},
   "outputs": [
    {
     "name": "stderr",
     "output_type": "stream",
     "text": [
      "Updating HTML index of packages in '.Library'\n",
      "\n",
      "Making 'packages.html' ...\n",
      " done\n",
      "\n",
      "Updating HTML index of packages in '.Library'\n",
      "\n",
      "Making 'packages.html' ...\n",
      " done\n",
      "\n"
     ]
    }
   ],
   "source": [
    "# Check if need to install rvest` library\n",
    "install.packages(\"httr\")\n",
    "install.packages(\"jsonlite\")\n",
    "library(httr)\n",
    "library(jsonlite)"
   ]
  },
  {
   "cell_type": "markdown",
   "metadata": {},
   "source": [
    "The API base URL to get current weather is https://api.openweathermap.org/data/2.5/weather\n"
   ]
  },
  {
   "cell_type": "code",
   "execution_count": 12,
   "metadata": {},
   "outputs": [],
   "source": [
    "# URL for Current Weather API\n",
    "current_weather_url <- 'https://api.openweathermap.org/data/2.5/weather'"
   ]
  },
  {
   "cell_type": "markdown",
   "metadata": {},
   "source": [
    "Next, let's create a list to hold URL parameters for current weather API\n"
   ]
  },
  {
   "cell_type": "code",
   "execution_count": 13,
   "metadata": {},
   "outputs": [],
   "source": [
    "# need to be replaced by your real API key\n",
    "your_api_key <- \"0a0f8cfdaf4a5f8350ce880d9e7f4055\"\n",
    "# Input `q` is the city name\n",
    "# Input `appid` is your API KEY, \n",
    "# Input `units` are preferred units such as Metric or Imperial\n",
    "current_query <- list(q = \"Seoul\", appid = your_api_key, units=\"metric\")"
   ]
  },
  {
   "cell_type": "markdown",
   "metadata": {},
   "source": [
    "Now we can make a HTTP request to the current weather API\n"
   ]
  },
  {
   "cell_type": "code",
   "execution_count": 14,
   "metadata": {},
   "outputs": [],
   "source": [
    "response <- GET(current_weather_url, query=current_query)"
   ]
  },
  {
   "cell_type": "markdown",
   "metadata": {},
   "source": [
    "If we check the response type, we can see it is in JSON format\n"
   ]
  },
  {
   "cell_type": "code",
   "execution_count": 15,
   "metadata": {},
   "outputs": [
    {
     "data": {
      "text/html": [
       "'application/json'"
      ],
      "text/latex": [
       "'application/json'"
      ],
      "text/markdown": [
       "'application/json'"
      ],
      "text/plain": [
       "[1] \"application/json\""
      ]
     },
     "metadata": {},
     "output_type": "display_data"
    }
   ],
   "source": [
    "http_type(response)"
   ]
  },
  {
   "cell_type": "markdown",
   "metadata": {},
   "source": [
    "JSON is an open standard file and data interchange format that uses human-readable text to store and transmit data objects. To read the JSON HTTP response, you can use the `content()` function to parse it as a named list in R.\n"
   ]
  },
  {
   "cell_type": "code",
   "execution_count": 16,
   "metadata": {},
   "outputs": [],
   "source": [
    "json_result <- content(response, as=\"parsed\")"
   ]
  },
  {
   "cell_type": "markdown",
   "metadata": {},
   "source": [
    "If you use the `class()` function, you can see it is a R `List` object\n"
   ]
  },
  {
   "cell_type": "code",
   "execution_count": 17,
   "metadata": {},
   "outputs": [
    {
     "data": {
      "text/html": [
       "'list'"
      ],
      "text/latex": [
       "'list'"
      ],
      "text/markdown": [
       "'list'"
      ],
      "text/plain": [
       "[1] \"list\""
      ]
     },
     "metadata": {},
     "output_type": "display_data"
    }
   ],
   "source": [
    "class(json_result)"
   ]
  },
  {
   "cell_type": "markdown",
   "metadata": {},
   "source": [
    "Now let's print the JSON result.\n"
   ]
  },
  {
   "cell_type": "code",
   "execution_count": 18,
   "metadata": {},
   "outputs": [
    {
     "data": {
      "text/html": [
       "<dl>\n",
       "\t<dt>$coord</dt>\n",
       "\t\t<dd><dl>\n",
       "\t<dt>$lon</dt>\n",
       "\t\t<dd>126.9778</dd>\n",
       "\t<dt>$lat</dt>\n",
       "\t\t<dd>37.5683</dd>\n",
       "</dl>\n",
       "</dd>\n",
       "\t<dt>$weather</dt>\n",
       "\t\t<dd><ol>\n",
       "\t<li><dl>\n",
       "\t<dt>$id</dt>\n",
       "\t\t<dd>701</dd>\n",
       "\t<dt>$main</dt>\n",
       "\t\t<dd>'Mist'</dd>\n",
       "\t<dt>$description</dt>\n",
       "\t\t<dd>'mist'</dd>\n",
       "\t<dt>$icon</dt>\n",
       "\t\t<dd>'50d'</dd>\n",
       "</dl>\n",
       "</li>\n",
       "</ol>\n",
       "</dd>\n",
       "\t<dt>$base</dt>\n",
       "\t\t<dd>'stations'</dd>\n",
       "\t<dt>$main</dt>\n",
       "\t\t<dd><dl>\n",
       "\t<dt>$temp</dt>\n",
       "\t\t<dd>12.76</dd>\n",
       "\t<dt>$feels_like</dt>\n",
       "\t\t<dd>12.7</dd>\n",
       "\t<dt>$temp_min</dt>\n",
       "\t\t<dd>12.76</dd>\n",
       "\t<dt>$temp_max</dt>\n",
       "\t\t<dd>22.78</dd>\n",
       "\t<dt>$pressure</dt>\n",
       "\t\t<dd>1007</dd>\n",
       "\t<dt>$humidity</dt>\n",
       "\t\t<dd>100</dd>\n",
       "\t<dt>$sea_level</dt>\n",
       "\t\t<dd>1007</dd>\n",
       "\t<dt>$grnd_level</dt>\n",
       "\t\t<dd>998</dd>\n",
       "</dl>\n",
       "</dd>\n",
       "\t<dt>$visibility</dt>\n",
       "\t\t<dd>5000</dd>\n",
       "\t<dt>$wind</dt>\n",
       "\t\t<dd><dl>\n",
       "\t<dt>$speed</dt>\n",
       "\t\t<dd>9.26</dd>\n",
       "\t<dt>$deg</dt>\n",
       "\t\t<dd>230</dd>\n",
       "\t<dt>$gust</dt>\n",
       "\t\t<dd>14.4</dd>\n",
       "</dl>\n",
       "</dd>\n",
       "\t<dt>$clouds</dt>\n",
       "\t\t<dd><strong>$all</strong> = 100</dd>\n",
       "\t<dt>$dt</dt>\n",
       "\t\t<dd>1745041800</dd>\n",
       "\t<dt>$sys</dt>\n",
       "\t\t<dd><dl>\n",
       "\t<dt>$type</dt>\n",
       "\t\t<dd>1</dd>\n",
       "\t<dt>$id</dt>\n",
       "\t\t<dd>8105</dd>\n",
       "\t<dt>$country</dt>\n",
       "\t\t<dd>'KR'</dd>\n",
       "\t<dt>$sunrise</dt>\n",
       "\t\t<dd>1745009518</dd>\n",
       "\t<dt>$sunset</dt>\n",
       "\t\t<dd>1745057409</dd>\n",
       "</dl>\n",
       "</dd>\n",
       "\t<dt>$timezone</dt>\n",
       "\t\t<dd>32400</dd>\n",
       "\t<dt>$id</dt>\n",
       "\t\t<dd>1835848</dd>\n",
       "\t<dt>$name</dt>\n",
       "\t\t<dd>'Seoul'</dd>\n",
       "\t<dt>$cod</dt>\n",
       "\t\t<dd>200</dd>\n",
       "</dl>\n"
      ],
      "text/latex": [
       "\\begin{description}\n",
       "\\item[\\$coord] \\begin{description}\n",
       "\\item[\\$lon] 126.9778\n",
       "\\item[\\$lat] 37.5683\n",
       "\\end{description}\n",
       "\n",
       "\\item[\\$weather] \\begin{enumerate}\n",
       "\\item \\begin{description}\n",
       "\\item[\\$id] 701\n",
       "\\item[\\$main] 'Mist'\n",
       "\\item[\\$description] 'mist'\n",
       "\\item[\\$icon] '50d'\n",
       "\\end{description}\n",
       "\n",
       "\\end{enumerate}\n",
       "\n",
       "\\item[\\$base] 'stations'\n",
       "\\item[\\$main] \\begin{description}\n",
       "\\item[\\$temp] 12.76\n",
       "\\item[\\$feels\\_like] 12.7\n",
       "\\item[\\$temp\\_min] 12.76\n",
       "\\item[\\$temp\\_max] 22.78\n",
       "\\item[\\$pressure] 1007\n",
       "\\item[\\$humidity] 100\n",
       "\\item[\\$sea\\_level] 1007\n",
       "\\item[\\$grnd\\_level] 998\n",
       "\\end{description}\n",
       "\n",
       "\\item[\\$visibility] 5000\n",
       "\\item[\\$wind] \\begin{description}\n",
       "\\item[\\$speed] 9.26\n",
       "\\item[\\$deg] 230\n",
       "\\item[\\$gust] 14.4\n",
       "\\end{description}\n",
       "\n",
       "\\item[\\$clouds] \\textbf{\\$all} = 100\n",
       "\\item[\\$dt] 1745041800\n",
       "\\item[\\$sys] \\begin{description}\n",
       "\\item[\\$type] 1\n",
       "\\item[\\$id] 8105\n",
       "\\item[\\$country] 'KR'\n",
       "\\item[\\$sunrise] 1745009518\n",
       "\\item[\\$sunset] 1745057409\n",
       "\\end{description}\n",
       "\n",
       "\\item[\\$timezone] 32400\n",
       "\\item[\\$id] 1835848\n",
       "\\item[\\$name] 'Seoul'\n",
       "\\item[\\$cod] 200\n",
       "\\end{description}\n"
      ],
      "text/markdown": [
       "$coord\n",
       ":   $lon\n",
       ":   126.9778\n",
       "$lat\n",
       ":   37.5683\n",
       "\n",
       "\n",
       "\n",
       "$weather\n",
       ":   1. $id\n",
       ":   701\n",
       "$main\n",
       ":   'Mist'\n",
       "$description\n",
       ":   'mist'\n",
       "$icon\n",
       ":   '50d'\n",
       "\n",
       "\n",
       "\n",
       "\n",
       "\n",
       "\n",
       "$base\n",
       ":   'stations'\n",
       "$main\n",
       ":   $temp\n",
       ":   12.76\n",
       "$feels_like\n",
       ":   12.7\n",
       "$temp_min\n",
       ":   12.76\n",
       "$temp_max\n",
       ":   22.78\n",
       "$pressure\n",
       ":   1007\n",
       "$humidity\n",
       ":   100\n",
       "$sea_level\n",
       ":   1007\n",
       "$grnd_level\n",
       ":   998\n",
       "\n",
       "\n",
       "\n",
       "$visibility\n",
       ":   5000\n",
       "$wind\n",
       ":   $speed\n",
       ":   9.26\n",
       "$deg\n",
       ":   230\n",
       "$gust\n",
       ":   14.4\n",
       "\n",
       "\n",
       "\n",
       "$clouds\n",
       ":   **$all** = 100\n",
       "$dt\n",
       ":   1745041800\n",
       "$sys\n",
       ":   $type\n",
       ":   1\n",
       "$id\n",
       ":   8105\n",
       "$country\n",
       ":   'KR'\n",
       "$sunrise\n",
       ":   1745009518\n",
       "$sunset\n",
       ":   1745057409\n",
       "\n",
       "\n",
       "\n",
       "$timezone\n",
       ":   32400\n",
       "$id\n",
       ":   1835848\n",
       "$name\n",
       ":   'Seoul'\n",
       "$cod\n",
       ":   200\n",
       "\n",
       "\n"
      ],
      "text/plain": [
       "$coord\n",
       "$coord$lon\n",
       "[1] 126.9778\n",
       "\n",
       "$coord$lat\n",
       "[1] 37.5683\n",
       "\n",
       "\n",
       "$weather\n",
       "$weather[[1]]\n",
       "$weather[[1]]$id\n",
       "[1] 701\n",
       "\n",
       "$weather[[1]]$main\n",
       "[1] \"Mist\"\n",
       "\n",
       "$weather[[1]]$description\n",
       "[1] \"mist\"\n",
       "\n",
       "$weather[[1]]$icon\n",
       "[1] \"50d\"\n",
       "\n",
       "\n",
       "\n",
       "$base\n",
       "[1] \"stations\"\n",
       "\n",
       "$main\n",
       "$main$temp\n",
       "[1] 12.76\n",
       "\n",
       "$main$feels_like\n",
       "[1] 12.7\n",
       "\n",
       "$main$temp_min\n",
       "[1] 12.76\n",
       "\n",
       "$main$temp_max\n",
       "[1] 22.78\n",
       "\n",
       "$main$pressure\n",
       "[1] 1007\n",
       "\n",
       "$main$humidity\n",
       "[1] 100\n",
       "\n",
       "$main$sea_level\n",
       "[1] 1007\n",
       "\n",
       "$main$grnd_level\n",
       "[1] 998\n",
       "\n",
       "\n",
       "$visibility\n",
       "[1] 5000\n",
       "\n",
       "$wind\n",
       "$wind$speed\n",
       "[1] 9.26\n",
       "\n",
       "$wind$deg\n",
       "[1] 230\n",
       "\n",
       "$wind$gust\n",
       "[1] 14.4\n",
       "\n",
       "\n",
       "$clouds\n",
       "$clouds$all\n",
       "[1] 100\n",
       "\n",
       "\n",
       "$dt\n",
       "[1] 1745041800\n",
       "\n",
       "$sys\n",
       "$sys$type\n",
       "[1] 1\n",
       "\n",
       "$sys$id\n",
       "[1] 8105\n",
       "\n",
       "$sys$country\n",
       "[1] \"KR\"\n",
       "\n",
       "$sys$sunrise\n",
       "[1] 1745009518\n",
       "\n",
       "$sys$sunset\n",
       "[1] 1745057409\n",
       "\n",
       "\n",
       "$timezone\n",
       "[1] 32400\n",
       "\n",
       "$id\n",
       "[1] 1835848\n",
       "\n",
       "$name\n",
       "[1] \"Seoul\"\n",
       "\n",
       "$cod\n",
       "[1] 200\n"
      ]
     },
     "metadata": {},
     "output_type": "display_data"
    }
   ],
   "source": [
    "json_result"
   ]
  },
  {
   "cell_type": "markdown",
   "metadata": {},
   "source": [
    "It contains very detailed weather data about the city of `Seoul`. Feel free to try other cities as well. We need to convert the named list to a data frame so that we can use data frame operations to process the data. Below is a simple example, which you may implement your own way to convert it to a data frame.\n"
   ]
  },
  {
   "cell_type": "code",
   "execution_count": 19,
   "metadata": {},
   "outputs": [],
   "source": [
    "# Create some empty vectors to hold data temporarily\n",
    "weather <- c()\n",
    "visibility <- c()\n",
    "temp <- c()\n",
    "temp_min <- c()\n",
    "temp_max <- c()\n",
    "pressure <- c()\n",
    "humidity <- c()\n",
    "wind_speed <- c()\n",
    "wind_deg <- c()\n"
   ]
  },
  {
   "cell_type": "markdown",
   "metadata": {},
   "source": [
    "Now assign the values in the `json_result` list into different vectors\n"
   ]
  },
  {
   "cell_type": "code",
   "execution_count": 20,
   "metadata": {},
   "outputs": [],
   "source": [
    "# $weather is also a list with one element, its $main element indicates the weather status such as clear or rain\n",
    "weather <- c(weather, json_result$weather[[1]]$main)\n",
    "# Get Visibility\n",
    "visibility <- c(visibility, json_result$visibility)\n",
    "# Get current temperature \n",
    "temp <- c(temp, json_result$main$temp)\n",
    "# Get min temperature \n",
    "temp_min <- c(temp_min, json_result$main$temp_min)\n",
    "# Get max temperature \n",
    "temp_max <- c(temp_max, json_result$main$temp_max)\n",
    "# Get pressure\n",
    "pressure <- c(pressure, json_result$main$pressure)\n",
    "# Get humidity\n",
    "humidity <- c(humidity, json_result$main$humidity)\n",
    "# Get wind speed\n",
    "wind_speed <- c(wind_speed, json_result$wind$speed)\n",
    "# Get wind direction\n",
    "wind_deg <- c(wind_deg, json_result$wind$deg)\n"
   ]
  },
  {
   "cell_type": "markdown",
   "metadata": {},
   "source": [
    "Combine all vectors as columns of a data frame\n"
   ]
  },
  {
   "cell_type": "code",
   "execution_count": 21,
   "metadata": {},
   "outputs": [],
   "source": [
    "# Combine all vectors\n",
    "weather_data_frame <- data.frame(weather=weather, \n",
    "                                 visibility=visibility, \n",
    "                                 temp=temp, \n",
    "                                 temp_min=temp_min, \n",
    "                                 temp_max=temp_max, \n",
    "                                 pressure=pressure, \n",
    "                                 humidity=humidity, \n",
    "                                 wind_speed=wind_speed, \n",
    "                                 wind_deg=wind_deg)"
   ]
  },
  {
   "cell_type": "code",
   "execution_count": 22,
   "metadata": {},
   "outputs": [
    {
     "name": "stdout",
     "output_type": "stream",
     "text": [
      "  weather visibility  temp temp_min temp_max pressure humidity wind_speed\n",
      "1    Mist       5000 12.76    12.76    22.78     1007      100       9.26\n",
      "  wind_deg\n",
      "1      230\n"
     ]
    }
   ],
   "source": [
    "# Check the generated data frame\n",
    "print(weather_data_frame)"
   ]
  },
  {
   "cell_type": "markdown",
   "metadata": {},
   "source": [
    "# TASK:  Get 5-day weather forecasts for a list of cities using the OpenWeather API\n"
   ]
  },
  {
   "cell_type": "markdown",
   "metadata": {},
   "source": [
    "Now you should be familiar with the usage of OpenWeather API. Next, you need to complete a task to get 5-day weather forecasts for a list of cities\n"
   ]
  },
  {
   "cell_type": "markdown",
   "metadata": {},
   "source": [
    "_TODO:_ Write a function to return a data frame containing 5-day weather forecasts for a list of cities\n"
   ]
  },
  {
   "cell_type": "code",
   "execution_count": 65,
   "metadata": {},
   "outputs": [],
   "source": [
    "# Create some empty vectors to hold data temporarily\n",
    "\n",
    "# City name column\n",
    "city <- c()\n",
    "# Weather column, rainy or cloudy, etc\n",
    "weather <- c()\n",
    "# Sky visibility column\n",
    "visibility <- c()\n",
    "# Current temperature column\n",
    "temp <- c()\n",
    "# Max temperature column\n",
    "temp_min <- c()\n",
    "# Min temperature column\n",
    "temp_max <- c()\n",
    "# Pressure column\n",
    "pressure <- c()\n",
    "# Humidity column\n",
    "humidity <- c()\n",
    "# Wind speed column\n",
    "wind_speed <- c()\n",
    "# Wind direction column\n",
    "wind_deg <- c()\n",
    "# Forecast timestamp\n",
    "forecast_datetime <- c()\n",
    "# Season column\n",
    "# Note that for season, you can hard code a season value from levels Spring, Summer, Autumn, and Winter based on your current month.\n",
    "season <- c()"
   ]
  },
  {
   "cell_type": "code",
   "execution_count": 59,
   "metadata": {},
   "outputs": [],
   "source": [
    "# Get forecast data for a given city list\n",
    "get_weather_forecast_by_cities <- function(city_names, your_api_key) {\n",
    "    # Create empty lists to hold data temporarily\n",
    "    city <- vector(\"character\", 0)\n",
    "    weather <- vector(\"character\", 0)\n",
    "    visibility <- vector(\"numeric\", 0)\n",
    "    temp <- vector(\"numeric\", 0)\n",
    "    temp_min <- vector(\"numeric\", 0)\n",
    "    temp_max <- vector(\"numeric\", 0)\n",
    "    pressure <- vector(\"numeric\", 0)\n",
    "    humidity <- vector(\"numeric\", 0)\n",
    "    wind_speed <- vector(\"numeric\", 0)\n",
    "    wind_deg <- vector(\"numeric\", 0)\n",
    "    forecast_datetime <- vector(\"character\", 0)\n",
    "    season <- vector(\"character\", 0)\n",
    "\n",
    "    # Loop through each city in the list\n",
    "    for (city_name in city_names) {\n",
    "        # Forecast API URL\n",
    "        forecast_url <- 'https://api.openweathermap.org/data/2.5/forecast'\n",
    "        \n",
    "        # Create query parameters\n",
    "        forecast_query <- list(q = city_name, appid = your_api_key, units = \"metric\")\n",
    "        \n",
    "        # Make HTTP GET call for the given city\n",
    "        response <- GET(forecast_url, query = forecast_query)\n",
    "        \n",
    "        # Check if the response is successful\n",
    "        if (status_code(response) == 200) {\n",
    "            # Parse JSON response into a named list\n",
    "            json_result <- content(response, as = \"parsed\")\n",
    "            \n",
    "            # Extract the forecast list\n",
    "            results <- json_result$list\n",
    "\n",
    "            # Check if 'results' is a list and contains valid data\n",
    "            if (is.list(results) && length(results) > 0) {\n",
    "                # Loop through the forecast data entries\n",
    "                for (i in 1:length(results)) {\n",
    "                    result <- results[[i]]  # Get the ith forecast entry\n",
    "                    \n",
    "                    # Access the weather description from the nested list\n",
    "                    weather_description <- ifelse(\n",
    "                        !is.null(result$weather) && length(result$weather) > 0 && is.list(result$weather),\n",
    "                        result$weather[[1]]$description,\n",
    "                        \"Unknown\"\n",
    "                    )\n",
    "\n",
    "                    # Process and store the data, with checks for atomic vectors and lists\n",
    "                    city <- c(city, city_name)\n",
    "                    weather <- c(weather, weather_description)\n",
    "                    \n",
    "                    # Visibility is a direct integer, no need to check for list\n",
    "                    visibility <- c(visibility, ifelse(!is.null(result$visibility), result$visibility, NA))\n",
    "                    \n",
    "                    # Main data such as temp, humidity are atomic vectors directly accessible\n",
    "                    temp <- c(temp, ifelse(!is.null(result$main$temp), result$main$temp, NA))\n",
    "                    temp_min <- c(temp_min, ifelse(!is.null(result$main$temp_min), result$main$temp_min, NA))\n",
    "                    temp_max <- c(temp_max, ifelse(!is.null(result$main$temp_max), result$main$temp_max, NA))\n",
    "                    pressure <- c(pressure, ifelse(!is.null(result$main$pressure), result$main$pressure, NA))\n",
    "                    humidity <- c(humidity, ifelse(!is.null(result$main$humidity), result$main$humidity, NA))\n",
    "                    \n",
    "                    # Wind is a list, so check for its elements\n",
    "                    wind_speed <- c(wind_speed, ifelse(!is.null(result$wind$speed), result$wind$speed, NA))\n",
    "                    wind_deg <- c(wind_deg, ifelse(!is.null(result$wind$deg), result$wind$deg, NA))\n",
    "                    \n",
    "                    # Use the datetime from the forecast for each entry\n",
    "                    forecast_datetime <- c(forecast_datetime, ifelse(!is.null(result$dt_txt), result$dt_txt, NA))\n",
    "                    \n",
    "                    # Get season from the month of the forecast date\n",
    "                    season <- c(season, get_season(as.numeric(format(as.Date(result$dt_txt), \"%m\"))))\n",
    "                }\n",
    "            } else {\n",
    "                warning(paste(\"No valid forecast data found for\", city_name))\n",
    "            }\n",
    "        } else {\n",
    "            # If the API call fails, print a warning\n",
    "            warning(paste(\"Failed to get forecast for\", city_name))\n",
    "        }\n",
    "    }\n",
    "    \n",
    "    # Combine vectors into a single data frame after the loop\n",
    "    df <- data.frame(\n",
    "        city = city,\n",
    "        weather = weather,\n",
    "        visibility = visibility,\n",
    "        temp = temp,\n",
    "        temp_min = temp_min,\n",
    "        temp_max = temp_max,\n",
    "        pressure = pressure,\n",
    "        humidity = humidity,\n",
    "        wind_speed = wind_speed,\n",
    "        wind_deg = wind_deg,\n",
    "        forecast_datetime = forecast_datetime,\n",
    "        season = season,\n",
    "        stringsAsFactors = FALSE\n",
    "    )\n",
    "    \n",
    "    # Return the data frame\n",
    "    return(df)\n",
    "}\n"
   ]
  },
  {
   "cell_type": "markdown",
   "metadata": {},
   "source": [
    "Complete and call `get_weather_forecaset_by_cities` function with a list of cities, and write the data frame into a csv file called `cities_weather_forecast.csv`\n"
   ]
  },
  {
   "cell_type": "code",
   "execution_count": 60,
   "metadata": {
    "scrolled": true
   },
   "outputs": [
    {
     "name": "stdout",
     "output_type": "stream",
     "text": [
      "List of 13\n",
      " $ coord     :List of 2\n",
      "  ..$ lon: num 127\n",
      "  ..$ lat: num 37.6\n",
      " $ weather   :List of 1\n",
      "  ..$ :List of 4\n",
      "  .. ..$ id         : int 701\n",
      "  .. ..$ main       : chr \"Mist\"\n",
      "  .. ..$ description: chr \"mist\"\n",
      "  .. ..$ icon       : chr \"50d\"\n",
      " $ base      : chr \"stations\"\n",
      " $ main      :List of 8\n",
      "  ..$ temp      : num 12.8\n",
      "  ..$ feels_like: num 12.7\n",
      "  ..$ temp_min  : num 12.8\n",
      "  ..$ temp_max  : num 22.8\n",
      "  ..$ pressure  : int 1007\n",
      "  ..$ humidity  : int 100\n",
      "  ..$ sea_level : int 1007\n",
      "  ..$ grnd_level: int 998\n",
      " $ visibility: int 5000\n",
      " $ wind      :List of 3\n",
      "  ..$ speed: num 9.26\n",
      "  ..$ deg  : int 230\n",
      "  ..$ gust : num 14.4\n",
      " $ clouds    :List of 1\n",
      "  ..$ all: int 100\n",
      " $ dt        : int 1745041800\n",
      " $ sys       :List of 5\n",
      "  ..$ type   : int 1\n",
      "  ..$ id     : int 8105\n",
      "  ..$ country: chr \"KR\"\n",
      "  ..$ sunrise: int 1745009518\n",
      "  ..$ sunset : int 1745057409\n",
      " $ timezone  : int 32400\n",
      " $ id        : int 1835848\n",
      " $ name      : chr \"Seoul\"\n",
      " $ cod       : int 200\n"
     ]
    },
    {
     "data": {
      "text/html": [
       "'list'"
      ],
      "text/latex": [
       "'list'"
      ],
      "text/markdown": [
       "'list'"
      ],
      "text/plain": [
       "[1] \"list\""
      ]
     },
     "metadata": {},
     "output_type": "display_data"
    }
   ],
   "source": [
    "str(json_result)\n",
    "class(json_result)"
   ]
  },
  {
   "cell_type": "code",
   "execution_count": 63,
   "metadata": {
    "scrolled": true
   },
   "outputs": [
    {
     "ename": "ERROR",
     "evalue": "Error in get_season(as.numeric(format(as.Date(result$dt_txt), \"%m\"))): could not find function \"get_season\"\n",
     "output_type": "error",
     "traceback": [
      "Error in get_season(as.numeric(format(as.Date(result$dt_txt), \"%m\"))): could not find function \"get_season\"\nTraceback:\n",
      "1. .handleSimpleError(function (cnd) \n . {\n .     watcher$capture_plot_and_output()\n .     cnd <- sanitize_call(cnd)\n .     watcher$push(cnd)\n .     switch(on_error, continue = invokeRestart(\"eval_continue\"), \n .         stop = invokeRestart(\"eval_stop\"), error = NULL)\n . }, \"could not find function \\\"get_season\\\"\", base::quote(get_season(as.numeric(format(as.Date(result$dt_txt), \n .     \"%m\")))))"
     ]
    }
   ],
   "source": [
    "# List of cities\n",
    "cities <- c(\"Seoul\", \"Washington, D.C.\", \"Paris\", \"Suzhou\")\n",
    "\n",
    "# Your OpenWeatherMap API key\n",
    "your_api_key <- \"0a0f8cfdaf4a5f8350ce880d9e7f4055\"\n",
    "\n",
    "# Call the forecast function\n",
    "cities_weather_df <- get_weather_forecast_by_cities(cities, your_api_key)\n",
    "\n",
    "# Print the result\n",
    "print(cities_weather_df)"
   ]
  },
  {
   "cell_type": "code",
   "execution_count": 44,
   "metadata": {},
   "outputs": [
    {
     "ename": "ERROR",
     "evalue": "Error in eval(expr, p): object 'cities_weather_df' not found\n",
     "output_type": "error",
     "traceback": [
      "Error in eval(expr, p): object 'cities_weather_df' not found\nTraceback:\n",
      "1. eval.parent(Call)",
      "2. eval(expr, p)",
      "3. eval(expr, p)",
      "4. utils::write.table(cities_weather_df, \"cities_weather_forecast.csv\", \n .     row.names = FALSE, col.names = TRUE, sep = \",\", dec = \".\", \n .     qmethod = \"double\")",
      "5. is.data.frame(x)",
      "6. .handleSimpleError(function (cnd) \n . {\n .     watcher$capture_plot_and_output()\n .     cnd <- sanitize_call(cnd)\n .     watcher$push(cnd)\n .     switch(on_error, continue = invokeRestart(\"eval_continue\"), \n .         stop = invokeRestart(\"eval_stop\"), error = NULL)\n . }, \"object 'cities_weather_df' not found\", base::quote(eval(expr, \n .     p)))"
     ]
    }
   ],
   "source": [
    "# Write cities_weather_df to `cities_weather_forecast.csv`\n",
    "write.csv(cities_weather_df, \"cities_weather_forecast.csv\", row.names=FALSE)"
   ]
  },
  {
   "cell_type": "markdown",
   "metadata": {},
   "source": [
    "For more details about HTTP requests with `httr`, please refer to the previous HTTP request notebook here: \n",
    "\n",
    "[HTTP request in R](https://cf-courses-data.s3.us.cloud-object-storage.appdomain.cloud/IBMDeveloperSkillsNetwork-RP0101EN-Coursera/v2/M4_Working_With_Data/lab2_jupyter_http-request.ipynb)\n"
   ]
  },
  {
   "cell_type": "markdown",
   "metadata": {},
   "source": [
    "## TASK: Download datasets as csv files from cloud storage\n"
   ]
  },
  {
   "cell_type": "markdown",
   "metadata": {},
   "source": [
    "The last task of this lab is straightforward: download some aggregated datasets from cloud storage\n"
   ]
  },
  {
   "cell_type": "code",
   "execution_count": null,
   "metadata": {},
   "outputs": [],
   "source": [
    "# Download several datasets\n",
    "\n",
    "# Download some general city information such as name and locations\n",
    "url <- \"https://cf-courses-data.s3.us.cloud-object-storage.appdomain.cloud/IBMDeveloperSkillsNetwork-RP0321EN-SkillsNetwork/labs/datasets/raw_worldcities.csv\"\n",
    "# download the file\n",
    "download.file(url, destfile = \"raw_worldcities.csv\")\n",
    "\n",
    "# Download a specific hourly Seoul bike sharing demand dataset\n",
    "url <- \"https://cf-courses-data.s3.us.cloud-object-storage.appdomain.cloud/IBMDeveloperSkillsNetwork-RP0321EN-SkillsNetwork/labs/datasets/raw_seoul_bike_sharing.csv\"\n",
    "# download the file\n",
    "download.file(url, destfile = \"raw_seoul_bike_sharing.csv\")"
   ]
  },
  {
   "cell_type": "markdown",
   "metadata": {},
   "source": [
    "## Next Step\n"
   ]
  },
  {
   "cell_type": "markdown",
   "metadata": {},
   "source": [
    "Now you should collect all datasets required for this project, all in csv format. Feel free to explore them preliminarily now. However, they are the raw datasets and have to be processed for further data visualization or data analysis.\n",
    "\n",
    "In the next module, you will improve their quality by performing data wrangling tasks.\n"
   ]
  },
  {
   "cell_type": "markdown",
   "metadata": {},
   "source": [
    "## Authors\n",
    "\n",
    "<a href=\"https://www.linkedin.com/in/yan-luo-96288783/\" target=\"_blank\">Yan Luo</a>\n"
   ]
  },
  {
   "cell_type": "markdown",
   "metadata": {},
   "source": [
    "### Other Contributors\n"
   ]
  },
  {
   "cell_type": "markdown",
   "metadata": {},
   "source": [
    "<!--## Change Log\n",
    "\n",
    "| Date (YYYY-MM-DD) | Version | Changed By | Change Description           |\n",
    "| ----------------- | ------- | ---------- | ---------------------------- |\n",
    "| 2021-04-05        | 0.1     | Yan        | Initial version created      |\n",
    "|                   |         |            |                              |\n",
    "|                   |         |            |                              |-->\n",
    "\n",
    "## <h3 align=\"center\"> © IBM Corporation 2021. All rights reserved. <h3/>\n"
   ]
  }
 ],
 "metadata": {
  "kernelspec": {
   "display_name": "R",
   "language": "R",
   "name": "ir"
  },
  "language_info": {
   "codemirror_mode": "r",
   "file_extension": ".r",
   "mimetype": "text/x-r-source",
   "name": "R",
   "pygments_lexer": "r",
   "version": "4.4.2"
  },
  "prev_pub_hash": "88f31aac468a00e6e7b60b5fc7c1be91b1676e610a96f4b33ac07dd332984c2b"
 },
 "nbformat": 4,
 "nbformat_minor": 4
}
